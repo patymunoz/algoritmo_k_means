{
 "cells": [
  {
   "cell_type": "code",
   "execution_count": null,
   "metadata": {},
   "outputs": [],
   "source": [
    "import numpy as np\n",
    "import plotly.graph_objects as go\n",
    "import matplotlib.pyplot as plt\n",
    "\n",
    "from k_means import kmeans\n",
    "from grafica import plot_kmeans\n",
    "from cantidad_k import calcular_wcss"
   ]
  },
  {
   "cell_type": "code",
   "execution_count": null,
   "metadata": {},
   "outputs": [],
   "source": [
    "# Genera un conjunto de datos de prueba\n",
    "np.random.seed(6666)\n",
    "datos = np.random.uniform(1,600,(100,2))"
   ]
  },
  {
   "cell_type": "code",
   "execution_count": null,
   "metadata": {},
   "outputs": [],
   "source": [
    "# Ejecuta el algoritmo K-Means\n",
    "etiquetas, n_centroides, dicc_centroides = kmeans(datos, k=5)"
   ]
  },
  {
   "cell_type": "code",
   "execution_count": null,
   "metadata": {},
   "outputs": [],
   "source": [
    "# Grafica los datos\n",
    "plot_kmeans(datos, etiquetas, dicc_centroides, i_centroides=True, f_centroides=True)"
   ]
  },
  {
   "cell_type": "code",
   "execution_count": null,
   "metadata": {},
   "outputs": [],
   "source": [
    "# checar la cantidad de k\n",
    "valores_k = range(2, 10)\n",
    "resultados = {}\n",
    "\n",
    "for k in valores_k:\n",
    "    etiquetas, centroides, _ = kmeans(datos, k)\n",
    "    wcss = calcular_wcss(datos, etiquetas, centroides)\n",
    "    resultados[k] = wcss\n",
    "\n",
    "# Graficar la curva de codo\n",
    "wcss_values = resultados\n",
    "\n",
    "clusters = list(wcss_values.keys())\n",
    "wcss = list(wcss_values.values())\n",
    "\n",
    "# Crear la gráfica\n",
    "plt.figure(figsize=(10,6))\n",
    "plt.plot(clusters, wcss, marker='o', linestyle='--', color='purple')\n",
    "plt.title('Gráfica de codo')\n",
    "plt.xlabel('Número de clusters (K)')\n",
    "plt.ylabel('WCSS')\n",
    "plt.grid(True)\n",
    "plt.show()"
   ]
  }
 ],
 "metadata": {
  "kernelspec": {
   "display_name": "metodos_numericos",
   "language": "python",
   "name": "python3"
  },
  "language_info": {
   "codemirror_mode": {
    "name": "ipython",
    "version": 3
   },
   "file_extension": ".py",
   "mimetype": "text/x-python",
   "name": "python",
   "nbconvert_exporter": "python",
   "pygments_lexer": "ipython3",
   "version": "3.10.0"
  }
 },
 "nbformat": 4,
 "nbformat_minor": 2
}
