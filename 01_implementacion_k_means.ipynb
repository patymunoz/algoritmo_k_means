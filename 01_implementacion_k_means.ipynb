{
 "cells": [
  {
   "cell_type": "code",
   "execution_count": 11,
   "metadata": {},
   "outputs": [],
   "source": [
    "import numpy as np\n",
    "import plotly.graph_objects as go\n",
    "import matplotlib.pyplot as plt\n",
    "\n",
    "from k_means import kmeans\n",
    "from grafica import plot_kmeans\n",
    "from cantidad_k import calcular_wcss"
   ]
  },
  {
   "cell_type": "code",
   "execution_count": 12,
   "metadata": {},
   "outputs": [],
   "source": [
    "# Genera un conjunto de datos de prueba\n",
    "np.random.seed(6666)\n",
    "datos = np.random.uniform(1,600,(100,2))"
   ]
  },
  {
   "cell_type": "code",
   "execution_count": 13,
   "metadata": {},
   "outputs": [],
   "source": [
    "# Ejecuta el algoritmo K-Means\n",
    "etiquetas, n_centroides, dicc_centroides = kmeans(datos, k=5)"
   ]
  },
  {
   "cell_type": "code",
   "execution_count": 14,
   "metadata": {},
   "outputs": [
    {
     "data": {
      "application/vnd.plotly.v1+json": {
       "config": {
        "plotlyServerURL": "https://plot.ly"
       },
       "data": [
        {
         "marker": {
          "color": "lightcoral"
         },
         "mode": "markers",
         "name": "Cluster 1",
         "type": "scatter",
         "x": [
          345.7707957299439,
          595.2397420728366,
          578.093132430712,
          325.10483984428373,
          487.74211729426287,
          419.5396882506431,
          574.8126297975848,
          430.0782938712436,
          450.9826506767666,
          473.0308414715141,
          490.35108954189144,
          470.8672439927668,
          316.5373488258176,
          528.9393013247311,
          485.9471103477561,
          414.9720125563307,
          357.33344306169096,
          360.20789161237525,
          332.4719788908554,
          565.5723591463628,
          517.2341870884876,
          543.1328118108792
         ],
         "y": [
          461.63626540350975,
          524.3724537334892,
          464.0525258457977,
          515.2518397017819,
          381.1490468284591,
          301.74571341031924,
          303.90397565450866,
          373.8739271306378,
          308.3574093873235,
          295.6587611211211,
          413.8935152235658,
          363.14953400580345,
          408.3866171491934,
          331.5062966879503,
          461.0618597859522,
          511.70679328779966,
          495.392543210904,
          449.51616882120544,
          435.0392360787677,
          555.4639279076076,
          599.5668112847775,
          299.7220105331476
         ]
        },
        {
         "marker": {
          "color": "rosybrown"
         },
         "mode": "markers",
         "name": "Cluster 2",
         "type": "scatter",
         "x": [
          184.74341911970902,
          209.01638236348566,
          138.49187888395625,
          252.17436989266892,
          194.19983966019853,
          58.771436720789154,
          194.7188598212671,
          23.443237168129297,
          241.07509410042965,
          8.890871159004062,
          39.60029419247869,
          151.65767242706897,
          112.99184186523395,
          80.67679617528245,
          85.98627855709738,
          278.21033144330795,
          4.013497847868431,
          239.18860154860664,
          51.19274308384101
         ],
         "y": [
          541.3865255142014,
          449.23208722211626,
          440.03398060673214,
          588.222235931568,
          500.85284035189534,
          520.3608574583029,
          435.73164733275695,
          498.06414530579934,
          469.8224433833051,
          522.9358566217397,
          450.0846792567826,
          572.7892527294882,
          515.5035932289665,
          459.4687833002305,
          448.1317978606194,
          461.6429053706891,
          513.0034799138245,
          481.46439717363995,
          535.3280325685515
         ]
        },
        {
         "marker": {
          "color": "orchid"
         },
         "mode": "markers",
         "name": "Cluster 3",
         "type": "scatter",
         "x": [
          544.9336127744249,
          500.1168671048739,
          403.3643441633983,
          595.7040017837867,
          509.77468948535034,
          405.90524607879473,
          463.87081995021174,
          524.8893748850594,
          470.926326925616,
          584.9709686653406,
          455.7823895723529,
          520.1426729275234
         ],
         "y": [
          152.53392777870926,
          255.61015551396878,
          23.28520431516372,
          30.054758883777847,
          74.42582115962266,
          218.52521692264344,
          195.9731103716952,
          227.77196039073783,
          193.17951790024253,
          79.55328935552274,
          27.448162986138836,
          275.39496525069603
         ]
        },
        {
         "marker": {
          "color": "darkviolet"
         },
         "mode": "markers",
         "name": "Cluster 4",
         "type": "scatter",
         "x": [
          58.12567199194816,
          33.53765374755445,
          206.60178240705986,
          24.30282042584863,
          115.05708614658766,
          191.97111525327568,
          171.72671141607984,
          179.13494670359114,
          41.10438758889901,
          103.13128687140352,
          109.82028208773465,
          98.8397363795362,
          152.51317581722603,
          191.61501379317934,
          81.79350645166687,
          113.47126246519933,
          14.966566470453374,
          86.08396250763403,
          41.89221709066875,
          124.61892185758518,
          81.55130209337123,
          61.0804385004043,
          65.35427364119184,
          133.81318545323776,
          5.398759166520858,
          206.22539561835532,
          64.24657318711621,
          133.1846496839863
         ],
         "y": [
          257.3055400287265,
          135.48966115343714,
          152.40137733267943,
          145.40688217390226,
          199.62128380046818,
          118.5865764015791,
          171.16426613854796,
          36.373848192725745,
          15.561067278698475,
          22.315535980676025,
          113.71979997748107,
          309.8109410560512,
          168.0912531149533,
          13.160851931401124,
          147.69319778052596,
          205.56819569570465,
          138.24075051729173,
          266.4247869557826,
          316.1968680603946,
          73.86328610759651,
          239.2554607546091,
          66.74988497420829,
          166.49844333319226,
          227.72357701193266,
          115.38861877952364,
          145.91709354910535,
          4.074274406311126,
          194.6295182235929
         ]
        },
        {
         "marker": {
          "color": "yellowgreen"
         },
         "mode": "markers",
         "name": "Cluster 5",
         "type": "scatter",
         "x": [
          186.28269113169014,
          224.9506864873172,
          324.7837036645627,
          215.8027770789766,
          139.1980431959951,
          298.4048469194651,
          235.53476672419868,
          157.89317397957464,
          278.2598218105953,
          302.45407752414985,
          202.07863240499438,
          299.21536648631735,
          238.9264677873172,
          254.13215195567733,
          327.03663786967854,
          322.842195427122,
          363.8758509433745,
          264.2437907889437,
          199.2305209262535
         ],
         "y": [
          262.29578239971664,
          299.1197301255798,
          253.55125379843903,
          224.06125755937566,
          340.1872316721246,
          251.88181896352248,
          282.35471956221625,
          296.2708006756145,
          175.26274246103148,
          222.31453930270956,
          253.75486032286472,
          241.27999283206805,
          276.0487351718644,
          344.49853962344633,
          164.31864874538527,
          270.6536388857771,
          252.0226928377784,
          358.859048205728,
          248.11634424027974
         ]
        },
        {
         "marker": {
          "color": "black",
          "line": {
           "width": 2
          },
          "size": 7,
          "symbol": "circle"
         },
         "mode": "markers",
         "name": "Centroides Iniciales",
         "type": "scatter",
         "x": [
          428.0446099457013,
          154.89044454126375,
          515.7550010741089,
          80.37448677680311,
          348.7508035780454
         ],
         "y": [
          462.8886580731294,
          412.13433747813446,
          64.5501940798225,
          171.6482986293017,
          202.68256514534156
         ]
        },
        {
         "marker": {
          "color": "green",
          "line": {
           "width": 2
          },
          "size": 7,
          "symbol": "x"
         },
         "mode": "markers",
         "name": "Centroides Finales",
         "type": "scatter",
         "x": [
          457.45279589271536,
          134.1601813700223,
          498.36510952639446,
          103.25581017204698,
          254.48137911085277
         ],
         "y": [
          420.6548741906192,
          494.9505021648005,
          146.1463409024099,
          148.8297443111107,
          264.044861967659
         ]
        }
       ],
       "layout": {
        "template": {
         "data": {
          "bar": [
           {
            "error_x": {
             "color": "#2a3f5f"
            },
            "error_y": {
             "color": "#2a3f5f"
            },
            "marker": {
             "line": {
              "color": "#E5ECF6",
              "width": 0.5
             },
             "pattern": {
              "fillmode": "overlay",
              "size": 10,
              "solidity": 0.2
             }
            },
            "type": "bar"
           }
          ],
          "barpolar": [
           {
            "marker": {
             "line": {
              "color": "#E5ECF6",
              "width": 0.5
             },
             "pattern": {
              "fillmode": "overlay",
              "size": 10,
              "solidity": 0.2
             }
            },
            "type": "barpolar"
           }
          ],
          "carpet": [
           {
            "aaxis": {
             "endlinecolor": "#2a3f5f",
             "gridcolor": "white",
             "linecolor": "white",
             "minorgridcolor": "white",
             "startlinecolor": "#2a3f5f"
            },
            "baxis": {
             "endlinecolor": "#2a3f5f",
             "gridcolor": "white",
             "linecolor": "white",
             "minorgridcolor": "white",
             "startlinecolor": "#2a3f5f"
            },
            "type": "carpet"
           }
          ],
          "choropleth": [
           {
            "colorbar": {
             "outlinewidth": 0,
             "ticks": ""
            },
            "type": "choropleth"
           }
          ],
          "contour": [
           {
            "colorbar": {
             "outlinewidth": 0,
             "ticks": ""
            },
            "colorscale": [
             [
              0,
              "#0d0887"
             ],
             [
              0.1111111111111111,
              "#46039f"
             ],
             [
              0.2222222222222222,
              "#7201a8"
             ],
             [
              0.3333333333333333,
              "#9c179e"
             ],
             [
              0.4444444444444444,
              "#bd3786"
             ],
             [
              0.5555555555555556,
              "#d8576b"
             ],
             [
              0.6666666666666666,
              "#ed7953"
             ],
             [
              0.7777777777777778,
              "#fb9f3a"
             ],
             [
              0.8888888888888888,
              "#fdca26"
             ],
             [
              1,
              "#f0f921"
             ]
            ],
            "type": "contour"
           }
          ],
          "contourcarpet": [
           {
            "colorbar": {
             "outlinewidth": 0,
             "ticks": ""
            },
            "type": "contourcarpet"
           }
          ],
          "heatmap": [
           {
            "colorbar": {
             "outlinewidth": 0,
             "ticks": ""
            },
            "colorscale": [
             [
              0,
              "#0d0887"
             ],
             [
              0.1111111111111111,
              "#46039f"
             ],
             [
              0.2222222222222222,
              "#7201a8"
             ],
             [
              0.3333333333333333,
              "#9c179e"
             ],
             [
              0.4444444444444444,
              "#bd3786"
             ],
             [
              0.5555555555555556,
              "#d8576b"
             ],
             [
              0.6666666666666666,
              "#ed7953"
             ],
             [
              0.7777777777777778,
              "#fb9f3a"
             ],
             [
              0.8888888888888888,
              "#fdca26"
             ],
             [
              1,
              "#f0f921"
             ]
            ],
            "type": "heatmap"
           }
          ],
          "heatmapgl": [
           {
            "colorbar": {
             "outlinewidth": 0,
             "ticks": ""
            },
            "colorscale": [
             [
              0,
              "#0d0887"
             ],
             [
              0.1111111111111111,
              "#46039f"
             ],
             [
              0.2222222222222222,
              "#7201a8"
             ],
             [
              0.3333333333333333,
              "#9c179e"
             ],
             [
              0.4444444444444444,
              "#bd3786"
             ],
             [
              0.5555555555555556,
              "#d8576b"
             ],
             [
              0.6666666666666666,
              "#ed7953"
             ],
             [
              0.7777777777777778,
              "#fb9f3a"
             ],
             [
              0.8888888888888888,
              "#fdca26"
             ],
             [
              1,
              "#f0f921"
             ]
            ],
            "type": "heatmapgl"
           }
          ],
          "histogram": [
           {
            "marker": {
             "pattern": {
              "fillmode": "overlay",
              "size": 10,
              "solidity": 0.2
             }
            },
            "type": "histogram"
           }
          ],
          "histogram2d": [
           {
            "colorbar": {
             "outlinewidth": 0,
             "ticks": ""
            },
            "colorscale": [
             [
              0,
              "#0d0887"
             ],
             [
              0.1111111111111111,
              "#46039f"
             ],
             [
              0.2222222222222222,
              "#7201a8"
             ],
             [
              0.3333333333333333,
              "#9c179e"
             ],
             [
              0.4444444444444444,
              "#bd3786"
             ],
             [
              0.5555555555555556,
              "#d8576b"
             ],
             [
              0.6666666666666666,
              "#ed7953"
             ],
             [
              0.7777777777777778,
              "#fb9f3a"
             ],
             [
              0.8888888888888888,
              "#fdca26"
             ],
             [
              1,
              "#f0f921"
             ]
            ],
            "type": "histogram2d"
           }
          ],
          "histogram2dcontour": [
           {
            "colorbar": {
             "outlinewidth": 0,
             "ticks": ""
            },
            "colorscale": [
             [
              0,
              "#0d0887"
             ],
             [
              0.1111111111111111,
              "#46039f"
             ],
             [
              0.2222222222222222,
              "#7201a8"
             ],
             [
              0.3333333333333333,
              "#9c179e"
             ],
             [
              0.4444444444444444,
              "#bd3786"
             ],
             [
              0.5555555555555556,
              "#d8576b"
             ],
             [
              0.6666666666666666,
              "#ed7953"
             ],
             [
              0.7777777777777778,
              "#fb9f3a"
             ],
             [
              0.8888888888888888,
              "#fdca26"
             ],
             [
              1,
              "#f0f921"
             ]
            ],
            "type": "histogram2dcontour"
           }
          ],
          "mesh3d": [
           {
            "colorbar": {
             "outlinewidth": 0,
             "ticks": ""
            },
            "type": "mesh3d"
           }
          ],
          "parcoords": [
           {
            "line": {
             "colorbar": {
              "outlinewidth": 0,
              "ticks": ""
             }
            },
            "type": "parcoords"
           }
          ],
          "pie": [
           {
            "automargin": true,
            "type": "pie"
           }
          ],
          "scatter": [
           {
            "fillpattern": {
             "fillmode": "overlay",
             "size": 10,
             "solidity": 0.2
            },
            "type": "scatter"
           }
          ],
          "scatter3d": [
           {
            "line": {
             "colorbar": {
              "outlinewidth": 0,
              "ticks": ""
             }
            },
            "marker": {
             "colorbar": {
              "outlinewidth": 0,
              "ticks": ""
             }
            },
            "type": "scatter3d"
           }
          ],
          "scattercarpet": [
           {
            "marker": {
             "colorbar": {
              "outlinewidth": 0,
              "ticks": ""
             }
            },
            "type": "scattercarpet"
           }
          ],
          "scattergeo": [
           {
            "marker": {
             "colorbar": {
              "outlinewidth": 0,
              "ticks": ""
             }
            },
            "type": "scattergeo"
           }
          ],
          "scattergl": [
           {
            "marker": {
             "colorbar": {
              "outlinewidth": 0,
              "ticks": ""
             }
            },
            "type": "scattergl"
           }
          ],
          "scattermapbox": [
           {
            "marker": {
             "colorbar": {
              "outlinewidth": 0,
              "ticks": ""
             }
            },
            "type": "scattermapbox"
           }
          ],
          "scatterpolar": [
           {
            "marker": {
             "colorbar": {
              "outlinewidth": 0,
              "ticks": ""
             }
            },
            "type": "scatterpolar"
           }
          ],
          "scatterpolargl": [
           {
            "marker": {
             "colorbar": {
              "outlinewidth": 0,
              "ticks": ""
             }
            },
            "type": "scatterpolargl"
           }
          ],
          "scatterternary": [
           {
            "marker": {
             "colorbar": {
              "outlinewidth": 0,
              "ticks": ""
             }
            },
            "type": "scatterternary"
           }
          ],
          "surface": [
           {
            "colorbar": {
             "outlinewidth": 0,
             "ticks": ""
            },
            "colorscale": [
             [
              0,
              "#0d0887"
             ],
             [
              0.1111111111111111,
              "#46039f"
             ],
             [
              0.2222222222222222,
              "#7201a8"
             ],
             [
              0.3333333333333333,
              "#9c179e"
             ],
             [
              0.4444444444444444,
              "#bd3786"
             ],
             [
              0.5555555555555556,
              "#d8576b"
             ],
             [
              0.6666666666666666,
              "#ed7953"
             ],
             [
              0.7777777777777778,
              "#fb9f3a"
             ],
             [
              0.8888888888888888,
              "#fdca26"
             ],
             [
              1,
              "#f0f921"
             ]
            ],
            "type": "surface"
           }
          ],
          "table": [
           {
            "cells": {
             "fill": {
              "color": "#EBF0F8"
             },
             "line": {
              "color": "white"
             }
            },
            "header": {
             "fill": {
              "color": "#C8D4E3"
             },
             "line": {
              "color": "white"
             }
            },
            "type": "table"
           }
          ]
         },
         "layout": {
          "annotationdefaults": {
           "arrowcolor": "#2a3f5f",
           "arrowhead": 0,
           "arrowwidth": 1
          },
          "autotypenumbers": "strict",
          "coloraxis": {
           "colorbar": {
            "outlinewidth": 0,
            "ticks": ""
           }
          },
          "colorscale": {
           "diverging": [
            [
             0,
             "#8e0152"
            ],
            [
             0.1,
             "#c51b7d"
            ],
            [
             0.2,
             "#de77ae"
            ],
            [
             0.3,
             "#f1b6da"
            ],
            [
             0.4,
             "#fde0ef"
            ],
            [
             0.5,
             "#f7f7f7"
            ],
            [
             0.6,
             "#e6f5d0"
            ],
            [
             0.7,
             "#b8e186"
            ],
            [
             0.8,
             "#7fbc41"
            ],
            [
             0.9,
             "#4d9221"
            ],
            [
             1,
             "#276419"
            ]
           ],
           "sequential": [
            [
             0,
             "#0d0887"
            ],
            [
             0.1111111111111111,
             "#46039f"
            ],
            [
             0.2222222222222222,
             "#7201a8"
            ],
            [
             0.3333333333333333,
             "#9c179e"
            ],
            [
             0.4444444444444444,
             "#bd3786"
            ],
            [
             0.5555555555555556,
             "#d8576b"
            ],
            [
             0.6666666666666666,
             "#ed7953"
            ],
            [
             0.7777777777777778,
             "#fb9f3a"
            ],
            [
             0.8888888888888888,
             "#fdca26"
            ],
            [
             1,
             "#f0f921"
            ]
           ],
           "sequentialminus": [
            [
             0,
             "#0d0887"
            ],
            [
             0.1111111111111111,
             "#46039f"
            ],
            [
             0.2222222222222222,
             "#7201a8"
            ],
            [
             0.3333333333333333,
             "#9c179e"
            ],
            [
             0.4444444444444444,
             "#bd3786"
            ],
            [
             0.5555555555555556,
             "#d8576b"
            ],
            [
             0.6666666666666666,
             "#ed7953"
            ],
            [
             0.7777777777777778,
             "#fb9f3a"
            ],
            [
             0.8888888888888888,
             "#fdca26"
            ],
            [
             1,
             "#f0f921"
            ]
           ]
          },
          "colorway": [
           "#636efa",
           "#EF553B",
           "#00cc96",
           "#ab63fa",
           "#FFA15A",
           "#19d3f3",
           "#FF6692",
           "#B6E880",
           "#FF97FF",
           "#FECB52"
          ],
          "font": {
           "color": "#2a3f5f"
          },
          "geo": {
           "bgcolor": "white",
           "lakecolor": "white",
           "landcolor": "#E5ECF6",
           "showlakes": true,
           "showland": true,
           "subunitcolor": "white"
          },
          "hoverlabel": {
           "align": "left"
          },
          "hovermode": "closest",
          "mapbox": {
           "style": "light"
          },
          "paper_bgcolor": "white",
          "plot_bgcolor": "#E5ECF6",
          "polar": {
           "angularaxis": {
            "gridcolor": "white",
            "linecolor": "white",
            "ticks": ""
           },
           "bgcolor": "#E5ECF6",
           "radialaxis": {
            "gridcolor": "white",
            "linecolor": "white",
            "ticks": ""
           }
          },
          "scene": {
           "xaxis": {
            "backgroundcolor": "#E5ECF6",
            "gridcolor": "white",
            "gridwidth": 2,
            "linecolor": "white",
            "showbackground": true,
            "ticks": "",
            "zerolinecolor": "white"
           },
           "yaxis": {
            "backgroundcolor": "#E5ECF6",
            "gridcolor": "white",
            "gridwidth": 2,
            "linecolor": "white",
            "showbackground": true,
            "ticks": "",
            "zerolinecolor": "white"
           },
           "zaxis": {
            "backgroundcolor": "#E5ECF6",
            "gridcolor": "white",
            "gridwidth": 2,
            "linecolor": "white",
            "showbackground": true,
            "ticks": "",
            "zerolinecolor": "white"
           }
          },
          "shapedefaults": {
           "line": {
            "color": "#2a3f5f"
           }
          },
          "ternary": {
           "aaxis": {
            "gridcolor": "white",
            "linecolor": "white",
            "ticks": ""
           },
           "baxis": {
            "gridcolor": "white",
            "linecolor": "white",
            "ticks": ""
           },
           "bgcolor": "#E5ECF6",
           "caxis": {
            "gridcolor": "white",
            "linecolor": "white",
            "ticks": ""
           }
          },
          "title": {
           "x": 0.05
          },
          "xaxis": {
           "automargin": true,
           "gridcolor": "white",
           "linecolor": "white",
           "ticks": "",
           "title": {
            "standoff": 15
           },
           "zerolinecolor": "white",
           "zerolinewidth": 2
          },
          "yaxis": {
           "automargin": true,
           "gridcolor": "white",
           "linecolor": "white",
           "ticks": "",
           "title": {
            "standoff": 15
           },
           "zerolinecolor": "white",
           "zerolinewidth": 2
          }
         }
        },
        "title": {
         "text": "K-Means"
        },
        "xaxis": {
         "title": {
          "text": "X"
         }
        },
        "yaxis": {
         "title": {
          "text": "Y"
         }
        }
       }
      }
     },
     "metadata": {},
     "output_type": "display_data"
    }
   ],
   "source": [
    "# Grafica los datos\n",
    "plot_kmeans(datos, etiquetas, dicc_centroides, i_centroides=True, f_centroides=True)"
   ]
  },
  {
   "cell_type": "code",
   "execution_count": 15,
   "metadata": {},
   "outputs": [
    {
     "data": {
      "image/png": "[encoded data removed]",
      "text/plain": [
       "<Figure size 1000x600 with 1 Axes>"
      ]
     },
     "metadata": {},
     "output_type": "display_data"
    }
   ],
   "source": [
    "# checar la cantidad de k\n",
    "valores_k = range(2, 10)\n",
    "resultados = {}\n",
    "\n",
    "for k in valores_k:\n",
    "    etiquetas, centroides, _ = kmeans(datos, k)\n",
    "    wcss = calcular_wcss(datos, etiquetas, centroides)\n",
    "    resultados[k] = wcss\n",
    "\n",
    "# Graficar la curva de codo\n",
    "wcss_values = resultados\n",
    "\n",
    "clusters = list(wcss_values.keys())\n",
    "wcss = list(wcss_values.values())\n",
    "\n",
    "# Crear la gráfica\n",
    "plt.figure(figsize=(10,6))\n",
    "plt.plot(clusters, wcss, marker='o', linestyle='--', color='purple')\n",
    "plt.title('Gráfica de codo')\n",
    "plt.xlabel('Número de clusters (K)')\n",
    "plt.ylabel('WCSS')\n",
    "plt.grid(True)\n",
    "plt.show()"
   ]
  }
 ],
 "metadata": {
  "kernelspec": {
   "display_name": "metodos_numericos",
   "language": "python",
   "name": "python3"
  },
  "language_info": {
   "codemirror_mode": {
    "name": "ipython",
    "version": 3
   },
   "file_extension": ".py",
   "mimetype": "text/x-python",
   "name": "python",
   "nbconvert_exporter": "python",
   "pygments_lexer": "ipython3",
   "version": "3.10.0"
  }
 },
 "nbformat": 4,
 "nbformat_minor": 2
}
